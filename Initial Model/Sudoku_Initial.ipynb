{
 "cells": [
  {
   "cell_type": "markdown",
   "id": "7375d89c-b673-4230-b56f-a4d06a064b95",
   "metadata": {},
   "source": [
    "## Data Preprocessing"
   ]
  },
  {
   "cell_type": "code",
   "execution_count": 1,
   "id": "d3969ff6-f0a6-4b69-a604-d43fe8ebc1ac",
   "metadata": {},
   "outputs": [],
   "source": [
    "import pandas as pd \n",
    "import numpy as np\n",
    "from sklearn.pipeline import Pipeline\n",
    "from sklearn.preprocessing import MinMaxScaler, OneHotEncoder"
   ]
  },
  {
   "cell_type": "code",
   "execution_count": 2,
   "id": "6aded2d4-ab86-45b8-86e8-304d8621a127",
   "metadata": {},
   "outputs": [],
   "source": [
    "sudoku = pd.read_csv(\"sudoku.csv\")"
   ]
  },
  {
   "cell_type": "code",
   "execution_count": 3,
   "id": "1e2feeb7-f898-4156-8728-35c91345bffd",
   "metadata": {},
   "outputs": [
    {
     "data": {
      "text/html": [
       "<div>\n",
       "<style scoped>\n",
       "    .dataframe tbody tr th:only-of-type {\n",
       "        vertical-align: middle;\n",
       "    }\n",
       "\n",
       "    .dataframe tbody tr th {\n",
       "        vertical-align: top;\n",
       "    }\n",
       "\n",
       "    .dataframe thead th {\n",
       "        text-align: right;\n",
       "    }\n",
       "</style>\n",
       "<table border=\"1\" class=\"dataframe\">\n",
       "  <thead>\n",
       "    <tr style=\"text-align: right;\">\n",
       "      <th></th>\n",
       "      <th>puzzle</th>\n",
       "      <th>solution</th>\n",
       "    </tr>\n",
       "  </thead>\n",
       "  <tbody>\n",
       "    <tr>\n",
       "      <th>0</th>\n",
       "      <td>0700000430400096108006349000940520003584600200...</td>\n",
       "      <td>6795182435437296188216349577943521863584617292...</td>\n",
       "    </tr>\n",
       "    <tr>\n",
       "      <th>1</th>\n",
       "      <td>3010865040465210705000000014008000020803479000...</td>\n",
       "      <td>3719865248465213795924738614638197522853479167...</td>\n",
       "    </tr>\n",
       "    <tr>\n",
       "      <th>2</th>\n",
       "      <td>0483015603600080909106700030200009355090102006...</td>\n",
       "      <td>7483915623652487919126754834217869355894132766...</td>\n",
       "    </tr>\n",
       "    <tr>\n",
       "      <th>3</th>\n",
       "      <td>0083170000042051090000400703271609049014500000...</td>\n",
       "      <td>2983176457642851391539462783271689549814537266...</td>\n",
       "    </tr>\n",
       "    <tr>\n",
       "      <th>4</th>\n",
       "      <td>0408906300001368208007405190004670524500207002...</td>\n",
       "      <td>1428956379751368248367425193984671524513287962...</td>\n",
       "    </tr>\n",
       "  </tbody>\n",
       "</table>\n",
       "</div>"
      ],
      "text/plain": [
       "                                              puzzle  \\\n",
       "0  0700000430400096108006349000940520003584600200...   \n",
       "1  3010865040465210705000000014008000020803479000...   \n",
       "2  0483015603600080909106700030200009355090102006...   \n",
       "3  0083170000042051090000400703271609049014500000...   \n",
       "4  0408906300001368208007405190004670524500207002...   \n",
       "\n",
       "                                            solution  \n",
       "0  6795182435437296188216349577943521863584617292...  \n",
       "1  3719865248465213795924738614638197522853479167...  \n",
       "2  7483915623652487919126754834217869355894132766...  \n",
       "3  2983176457642851391539462783271689549814537266...  \n",
       "4  1428956379751368248367425193984671524513287962...  "
      ]
     },
     "execution_count": 3,
     "metadata": {},
     "output_type": "execute_result"
    }
   ],
   "source": [
    "sudoku.head()"
   ]
  },
  {
   "cell_type": "code",
   "execution_count": 4,
   "id": "1861428c-3dd7-4871-8048-369c49a2f46d",
   "metadata": {},
   "outputs": [
    {
     "data": {
      "text/html": [
       "<div>\n",
       "<style scoped>\n",
       "    .dataframe tbody tr th:only-of-type {\n",
       "        vertical-align: middle;\n",
       "    }\n",
       "\n",
       "    .dataframe tbody tr th {\n",
       "        vertical-align: top;\n",
       "    }\n",
       "\n",
       "    .dataframe thead th {\n",
       "        text-align: right;\n",
       "    }\n",
       "</style>\n",
       "<table border=\"1\" class=\"dataframe\">\n",
       "  <thead>\n",
       "    <tr style=\"text-align: right;\">\n",
       "      <th></th>\n",
       "      <th>puzzle</th>\n",
       "      <th>solution</th>\n",
       "    </tr>\n",
       "  </thead>\n",
       "  <tbody>\n",
       "    <tr>\n",
       "      <th>count</th>\n",
       "      <td>9000000</td>\n",
       "      <td>9000000</td>\n",
       "    </tr>\n",
       "    <tr>\n",
       "      <th>unique</th>\n",
       "      <td>9000000</td>\n",
       "      <td>9000000</td>\n",
       "    </tr>\n",
       "    <tr>\n",
       "      <th>top</th>\n",
       "      <td>0700000430400096108006349000940520003584600200...</td>\n",
       "      <td>6795182435437296188216349577943521863584617292...</td>\n",
       "    </tr>\n",
       "    <tr>\n",
       "      <th>freq</th>\n",
       "      <td>1</td>\n",
       "      <td>1</td>\n",
       "    </tr>\n",
       "  </tbody>\n",
       "</table>\n",
       "</div>"
      ],
      "text/plain": [
       "                                                   puzzle  \\\n",
       "count                                             9000000   \n",
       "unique                                            9000000   \n",
       "top     0700000430400096108006349000940520003584600200...   \n",
       "freq                                                    1   \n",
       "\n",
       "                                                 solution  \n",
       "count                                             9000000  \n",
       "unique                                            9000000  \n",
       "top     6795182435437296188216349577943521863584617292...  \n",
       "freq                                                    1  "
      ]
     },
     "execution_count": 4,
     "metadata": {},
     "output_type": "execute_result"
    }
   ],
   "source": [
    "sudoku.describe()"
   ]
  },
  {
   "cell_type": "code",
   "execution_count": 5,
   "id": "04488cd4-99d0-4739-b567-6988a4efe827",
   "metadata": {},
   "outputs": [],
   "source": [
    "sampled_sudoku = sudoku.sample(n = 100000, random_state = 24)"
   ]
  },
  {
   "cell_type": "code",
   "execution_count": 6,
   "id": "dbbf47a6-422f-4861-bef8-f7650855829a",
   "metadata": {},
   "outputs": [
    {
     "data": {
      "text/html": [
       "<div>\n",
       "<style scoped>\n",
       "    .dataframe tbody tr th:only-of-type {\n",
       "        vertical-align: middle;\n",
       "    }\n",
       "\n",
       "    .dataframe tbody tr th {\n",
       "        vertical-align: top;\n",
       "    }\n",
       "\n",
       "    .dataframe thead th {\n",
       "        text-align: right;\n",
       "    }\n",
       "</style>\n",
       "<table border=\"1\" class=\"dataframe\">\n",
       "  <thead>\n",
       "    <tr style=\"text-align: right;\">\n",
       "      <th></th>\n",
       "      <th>puzzle</th>\n",
       "      <th>solution</th>\n",
       "    </tr>\n",
       "  </thead>\n",
       "  <tbody>\n",
       "    <tr>\n",
       "      <th>count</th>\n",
       "      <td>100000</td>\n",
       "      <td>100000</td>\n",
       "    </tr>\n",
       "    <tr>\n",
       "      <th>unique</th>\n",
       "      <td>100000</td>\n",
       "      <td>100000</td>\n",
       "    </tr>\n",
       "    <tr>\n",
       "      <th>top</th>\n",
       "      <td>0070400398020000640401000570092643183019070000...</td>\n",
       "      <td>1576428398925731646431892575792643183819576424...</td>\n",
       "    </tr>\n",
       "    <tr>\n",
       "      <th>freq</th>\n",
       "      <td>1</td>\n",
       "      <td>1</td>\n",
       "    </tr>\n",
       "  </tbody>\n",
       "</table>\n",
       "</div>"
      ],
      "text/plain": [
       "                                                   puzzle  \\\n",
       "count                                              100000   \n",
       "unique                                             100000   \n",
       "top     0070400398020000640401000570092643183019070000...   \n",
       "freq                                                    1   \n",
       "\n",
       "                                                 solution  \n",
       "count                                              100000  \n",
       "unique                                             100000  \n",
       "top     1576428398925731646431892575792643183819576424...  \n",
       "freq                                                    1  "
      ]
     },
     "execution_count": 6,
     "metadata": {},
     "output_type": "execute_result"
    }
   ],
   "source": [
    "sampled_sudoku.describe()"
   ]
  },
  {
   "cell_type": "markdown",
   "id": "b92d33b5-822d-4a99-b431-afa8283a23ba",
   "metadata": {},
   "source": [
    "## Initial Model"
   ]
  },
  {
   "cell_type": "code",
   "execution_count": 7,
   "id": "63183b63-56b2-4993-95e8-69d8187a2672",
   "metadata": {},
   "outputs": [],
   "source": [
    "puzzles = np.array([list(p) for p in sampled_sudoku['puzzle']], dtype=np.int8)\n",
    "solutions = np.array([list(s) for s in sampled_sudoku['solution']], dtype=np.int8)"
   ]
  },
  {
   "cell_type": "code",
   "execution_count": 8,
   "id": "2741d9ac-b3ef-4e4f-a0e5-0901ebcfe999",
   "metadata": {},
   "outputs": [],
   "source": [
    "puzzles = puzzles.reshape(-1, 9, 9)\n",
    "solutions = solutions.reshape(-1, 9, 9)"
   ]
  },
  {
   "cell_type": "code",
   "execution_count": 9,
   "id": "c33c658b-d0b0-4828-a79d-2a9922424dad",
   "metadata": {},
   "outputs": [
    {
     "data": {
      "text/plain": [
       "(100000, 9, 9)"
      ]
     },
     "execution_count": 9,
     "metadata": {},
     "output_type": "execute_result"
    }
   ],
   "source": [
    "puzzles.shape"
   ]
  },
  {
   "cell_type": "code",
   "execution_count": 10,
   "id": "6a275b59-cec4-4b06-aec3-3a0e59e6e3ec",
   "metadata": {},
   "outputs": [
    {
     "data": {
      "text/plain": [
       "(100000, 9, 9)"
      ]
     },
     "execution_count": 10,
     "metadata": {},
     "output_type": "execute_result"
    }
   ],
   "source": [
    "solutions.shape"
   ]
  },
  {
   "cell_type": "code",
   "execution_count": 3,
   "id": "39a0fd06-2a92-48eb-9e2d-2306c1dd1b74",
   "metadata": {},
   "outputs": [],
   "source": [
    "pipeline = Pipeline([\n",
    "    ('normalization', MinMaxScaler(feature_range = (0,1))),\n",
    "    ('one_hot_encoding', OneHotEncoder(categories = [range(1,10)], sparse_output = False))\n",
    "])"
   ]
  },
  {
   "cell_type": "code",
   "execution_count": 15,
   "id": "e59067b5-6f9e-46bb-87a8-3f50a47f00a4",
   "metadata": {},
   "outputs": [],
   "source": [
    "puzzles_flat = puzzles.reshape(puzzles.shape[0], -1)\n",
    "puzzles_normalized = pipeline.named_steps['normalization'].fit_transform(puzzles_flat)\n",
    "puzzles_normalized = puzzles_normalized.reshape(puzzles.shape)"
   ]
  },
  {
   "cell_type": "code",
   "execution_count": 16,
   "id": "0a6a1be5-f58b-4c6c-96e7-9a2cb85c3121",
   "metadata": {},
   "outputs": [],
   "source": [
    "solutions_flat = solutions.reshape(-1, 1)\n",
    "solutions_onehot = pipeline.named_steps['one_hot_encoding'].fit_transform(solutions_flat)\n",
    "solutions_onehot = solutions_onehot.reshape(solutions.shape[0], 9, 9, 9)"
   ]
  },
  {
   "cell_type": "code",
   "execution_count": 4,
   "id": "c754bbaf-1203-48c9-a618-742ddbae21e4",
   "metadata": {},
   "outputs": [],
   "source": [
    "import torch\n",
    "import torch.nn as nn"
   ]
  },
  {
   "cell_type": "code",
   "execution_count": 5,
   "id": "a34dd71e-d88e-4753-84a5-21ea368ed3a3",
   "metadata": {},
   "outputs": [],
   "source": [
    "import torch.optim as optim\n",
    "from torch.utils.data import Dataset, DataLoader, TensorDataset\n",
    "from sklearn.model_selection import train_test_split"
   ]
  },
  {
   "cell_type": "code",
   "execution_count": 32,
   "id": "46f4a9b4-6f2f-4efe-9bca-710711882096",
   "metadata": {},
   "outputs": [],
   "source": [
    "train_puzzles, test_puzzles, train_solutions, test_solutions = train_test_split(\n",
    "    puzzles_normalized, solutions_onehot, test_size=0.1, random_state=42\n",
    ")\n",
    "\n",
    "train_puzzles_tensor = torch.tensor(train_puzzles, dtype=torch.float32).unsqueeze(1)\n",
    "test_puzzles_tensor = torch.tensor(test_puzzles, dtype=torch.float32).unsqueeze(1)\n",
    "\n",
    "train_solutions_tensor = torch.tensor(train_solutions, dtype=torch.float32).permute(0, 3, 1, 2)\n",
    "test_solutions_tensor = torch.tensor(test_solutions, dtype=torch.float32).permute(0, 3, 1, 2)"
   ]
  },
  {
   "cell_type": "code",
   "execution_count": 33,
   "id": "b9515c6e-399e-4878-9b15-2542e4038b9d",
   "metadata": {},
   "outputs": [],
   "source": [
    "train_dataset = TensorDataset(train_puzzles_tensor, train_solutions_tensor)\n",
    "test_dataset = TensorDataset(test_puzzles_tensor, test_solutions_tensor)\n",
    "\n",
    "train_loader = DataLoader(train_dataset, batch_size=64, shuffle=True)\n",
    "test_loader = DataLoader(test_dataset, batch_size=64)"
   ]
  },
  {
   "cell_type": "code",
   "execution_count": 34,
   "id": "972c9d58-1f1b-4ba1-878f-8d04b280546f",
   "metadata": {},
   "outputs": [],
   "source": [
    "class SudokuSolverCNN(nn.Module):\n",
    "    def __init__(self, num_layers=16):\n",
    "        super(SudokuSolverCNN, self).__init__()\n",
    "        self.layers = nn.ModuleList()\n",
    "        \n",
    "        self.layers.append(nn.Conv2d(1, 512, kernel_size=3, padding=1))\n",
    "        \n",
    "\n",
    "        for i in range(num_layers - 2):\n",
    "            self.layers.append(nn.Conv2d(512, 512, kernel_size=3, padding=1))\n",
    "            self.layers.append(nn.BatchNorm2d(512))\n",
    "            self.layers.append(nn.ReLU())\n",
    "        \n",
    "        self.final = nn.Conv2d(512, 9, kernel_size=1)\n",
    "        \n",
    "    def forward(self, x):\n",
    "        for layer in self.layers:\n",
    "            x = layer(x)\n",
    "        x = self.final(x)\n",
    "        return x"
   ]
  },
  {
   "cell_type": "code",
   "execution_count": null,
   "id": "2dc45d99-f00c-4e24-9497-fce35fae6a89",
   "metadata": {},
   "outputs": [],
   "source": [
    "def create_sudoku_cnn_pipeline():\n",
    "    return nn.Sequential(\n",
    "        nn.Conv2d(1, 512, kernel_size=3, padding=1),\n",
    "        nn.BatchNorm2d(512),\n",
    "        nn.ReLU(),\n",
    "        *[nn.Sequential(\n",
    "            nn.Conv2d(512, 512, kernel_size=3, padding=1),\n",
    "            nn.BatchNorm2d(512),\n",
    "            nn.ReLU()\n",
    "        ) for _ in range(14)],\n",
    "        nn.Conv2d(512, 9, kernel_size=1),\n",
    "    )\n",
    "\n",
    "model = create_sudoku_cnn_pipeline()"
   ]
  },
  {
   "cell_type": "code",
   "execution_count": 16,
   "id": "338f0697-a98f-4445-b82b-df698cdace0a",
   "metadata": {},
   "outputs": [],
   "source": [
    "device = torch.device(\"cuda\" if torch.cuda.is_available() else \"cpu\")"
   ]
  },
  {
   "cell_type": "code",
   "execution_count": 17,
   "id": "0531fc32-d46c-4799-a13f-d7be891605e6",
   "metadata": {},
   "outputs": [
    {
     "data": {
      "text/plain": [
       "device(type='cuda')"
      ]
     },
     "execution_count": 17,
     "metadata": {},
     "output_type": "execute_result"
    }
   ],
   "source": [
    "device"
   ]
  },
  {
   "cell_type": "code",
   "execution_count": 30,
   "id": "132e3840-8c72-4feb-a112-f984e92643bb",
   "metadata": {},
   "outputs": [
    {
     "name": "stdout",
     "output_type": "stream",
     "text": [
      "Epoch [10/10], Test Accuracy: 73.00%\n"
     ]
    }
   ],
   "source": [
    "model = create_sudoku_cnn_pipeline().to(device)\n",
    "criterion = nn.CrossEntropyLoss()\n",
    "optimizer = optim.Adam(model.parameters(), lr=0.001)\n",
    "\n",
    "num_epochs = 10\n",
    "for epoch in range(num_epochs):\n",
    "    model.train()\n",
    "    for puzzles, solutions in train_loader:\n",
    "        puzzles, solutions = puzzles.to(device), solutions.to(device)\n",
    "        optimizer.zero_grad()\n",
    "        outputs = model(puzzles)\n",
    "        loss = criterion(outputs, solutions)\n",
    "        loss.backward()\n",
    "        optimizer.step()\n",
    "    \n",
    "model.eval()\n",
    "correct_cells = 0\n",
    "total_cells = 0\n",
    "with torch.no_grad():\n",
    "    for puzzles, solutions in test_loader:\n",
    "        puzzles, solutions = puzzles.to(device), solutions.to(device)\n",
    "        outputs = model(puzzles)\n",
    "        \n",
    "        _, predicted = torch.max(outputs, 1)\n",
    "        _, labels = torch.max(solutions, 1)\n",
    "        \n",
    "        total_cells += labels.numel()\n",
    "        correct_cells += (predicted == labels).sum().item()\n",
    "\n",
    "print(f'Epoch [{epoch+1}/{num_epochs}], Test Accuracy: {100 * correct_cells / total_cells:.2f}%')\n",
    "\n"
   ]
  },
  {
   "cell_type": "code",
   "execution_count": 31,
   "id": "f5f14fee-6291-4fb0-8159-cb9cd7c46060",
   "metadata": {},
   "outputs": [
    {
     "data": {
      "text/plain": [
       "device(type='cuda')"
      ]
     },
     "execution_count": 31,
     "metadata": {},
     "output_type": "execute_result"
    }
   ],
   "source": [
    "device"
   ]
  },
  {
   "cell_type": "markdown",
   "id": "9f5d0211-8c3b-400d-bdcb-03d643c1a07c",
   "metadata": {},
   "source": [
    "## Enahced Model"
   ]
  },
  {
   "cell_type": "code",
   "execution_count": 6,
   "id": "96163a42-8439-4b0c-935f-788c3d17884f",
   "metadata": {},
   "outputs": [],
   "source": [
    "sampled_sudoku = sudoku.sample(n = 200000, random_state = 123)"
   ]
  },
  {
   "cell_type": "code",
   "execution_count": 7,
   "id": "4962b677-9a49-4952-8a54-d2c77ec32875",
   "metadata": {},
   "outputs": [],
   "source": [
    "puzzles = np.array([list(p) for p in sampled_sudoku['puzzle']], dtype=np.int8)\n",
    "solutions = np.array([list(s) for s in sampled_sudoku['solution']], dtype=np.int8)"
   ]
  },
  {
   "cell_type": "code",
   "execution_count": 8,
   "id": "8c5a39ac-b457-437a-8f6b-653c04e5bb71",
   "metadata": {},
   "outputs": [],
   "source": [
    "puzzles = puzzles.reshape(-1, 9, 9)\n",
    "solutions = solutions.reshape(-1, 9, 9)"
   ]
  },
  {
   "cell_type": "code",
   "execution_count": 9,
   "id": "e0d99c11-d8f6-4993-a3b0-e28c3c8373a2",
   "metadata": {},
   "outputs": [],
   "source": [
    "puzzles_flat = puzzles.reshape(puzzles.shape[0], -1)\n",
    "puzzles_normalized = pipeline.named_steps['normalization'].fit_transform(puzzles_flat)\n",
    "puzzles_normalized = puzzles_normalized.reshape(puzzles.shape)"
   ]
  },
  {
   "cell_type": "code",
   "execution_count": 10,
   "id": "609b31e4-903b-42b9-9e11-40ea2f99857c",
   "metadata": {},
   "outputs": [],
   "source": [
    "solutions_flat = solutions.reshape(-1, 1)\n",
    "solutions_onehot = pipeline.named_steps['one_hot_encoding'].fit_transform(solutions_flat)\n",
    "solutions_onehot = solutions_onehot.reshape(solutions.shape[0], 9, 9, 9)"
   ]
  },
  {
   "cell_type": "code",
   "execution_count": 11,
   "id": "06c3ef3a-db7a-4d81-b941-7e20fd94727c",
   "metadata": {},
   "outputs": [],
   "source": [
    "train_puzzles, test_puzzles, train_solutions, test_solutions = train_test_split(\n",
    "    puzzles_normalized, solutions_onehot, test_size=0.2, random_state=42\n",
    ")\n",
    "\n",
    "train_puzzles_tensor = torch.tensor(train_puzzles, dtype=torch.float32).unsqueeze(1)\n",
    "test_puzzles_tensor = torch.tensor(test_puzzles, dtype=torch.float32).unsqueeze(1)\n",
    "\n",
    "train_solutions_tensor = torch.tensor(train_solutions, dtype=torch.float32).permute(0, 3, 1, 2)\n",
    "test_solutions_tensor = torch.tensor(test_solutions, dtype=torch.float32).permute(0, 3, 1, 2)"
   ]
  },
  {
   "cell_type": "code",
   "execution_count": 12,
   "id": "62d2f16c-0430-4b37-80d4-2cd5f03cac46",
   "metadata": {},
   "outputs": [],
   "source": [
    "train_dataset = TensorDataset(train_puzzles_tensor, train_solutions_tensor)\n",
    "test_dataset = TensorDataset(test_puzzles_tensor, test_solutions_tensor)\n",
    "\n",
    "train_loader = DataLoader(train_dataset, batch_size=64, shuffle=True)\n",
    "test_loader = DataLoader(test_dataset, batch_size=64)"
   ]
  },
  {
   "cell_type": "code",
   "execution_count": 15,
   "id": "9671140b-03b8-4d32-97cc-4d36a0fa8972",
   "metadata": {},
   "outputs": [
    {
     "data": {
      "text/plain": [
       "(200000, 9, 9)"
      ]
     },
     "execution_count": 15,
     "metadata": {},
     "output_type": "execute_result"
    }
   ],
   "source": [
    "puzzles.shape"
   ]
  },
  {
   "cell_type": "code",
   "execution_count": 16,
   "id": "bbb17c54-6ff7-4bb9-a603-f3ab595db028",
   "metadata": {},
   "outputs": [
    {
     "data": {
      "text/plain": [
       "(200000, 9, 9)"
      ]
     },
     "execution_count": 16,
     "metadata": {},
     "output_type": "execute_result"
    }
   ],
   "source": [
    "solutions.shape"
   ]
  },
  {
   "cell_type": "code",
   "execution_count": 13,
   "id": "53adfd27-e1da-4e7d-ae12-00423ee063af",
   "metadata": {},
   "outputs": [],
   "source": [
    "class SudokuSolverCNN(nn.Module):\n",
    "    def __init__(self, num_layers= 20):\n",
    "        super(SudokuSolverCNN, self).__init__()\n",
    "        self.layers = nn.ModuleList()\n",
    "\n",
    "        self.layers.append(nn.Conv2d(1, 512, kernel_size=3, padding=1))\n",
    "        self.layers.append(nn.BatchNorm2d(512))\n",
    "        self.layers.append(nn.ReLU())\n",
    "        \n",
    "        for i in range(num_layers - 2):\n",
    "            self.layers.append(nn.Conv2d(512, 512, kernel_size=3, padding=1))\n",
    "            self.layers.append(nn.BatchNorm2d(512))\n",
    "            self.layers.append(nn.ReLU())\n",
    "\n",
    "        self.final_conv = nn.Conv2d(512, 9, kernel_size=1)\n",
    "    \n",
    "    def forward(self, x):\n",
    "        residual = x\n",
    "        for layer in self.layers:\n",
    "            x = layer(x)\n",
    "            if isinstance(layer, nn.ReLU):\n",
    "                x += residual\n",
    "                residual = x\n",
    "        x = self.final_conv(x)\n",
    "        return x\n",
    "\n"
   ]
  },
  {
   "cell_type": "code",
   "execution_count": 14,
   "id": "223888a4-55f0-45f6-8e64-f77f7f356321",
   "metadata": {},
   "outputs": [],
   "source": [
    "def create_sudoku_cnn_pipeline():\n",
    "    return nn.Sequential(\n",
    "        nn.Conv2d(1, 512, kernel_size=3, padding=1),\n",
    "        nn.BatchNorm2d(512),\n",
    "        nn.ReLU(),\n",
    "        *[\n",
    "            nn.Sequential(\n",
    "                nn.Conv2d(512, 512, kernel_size=3, padding=1),\n",
    "                nn.BatchNorm2d(512),\n",
    "                nn.ReLU()\n",
    "            ) for _ in range(18)\n",
    "        ],\n",
    "        nn.Conv2d(512, 9, kernel_size=1),\n",
    "    )\n",
    "    \n",
    "model = create_sudoku_cnn_pipeline()"
   ]
  },
  {
   "cell_type": "code",
   "execution_count": 18,
   "id": "22c13ace-ca7a-4596-a376-15a15d96f9b6",
   "metadata": {},
   "outputs": [
    {
     "name": "stdout",
     "output_type": "stream",
     "text": [
      "Overall Training Accuracy: 83.28%\n",
      "Overall Test Accuracy: 79.55%\n"
     ]
    }
   ],
   "source": [
    "model = create_sudoku_cnn_pipeline().to(device)\n",
    "criterion = nn.CrossEntropyLoss()\n",
    "optimizer = optim.Adam(model.parameters(), lr=0.001)\n",
    "\n",
    "num_epochs = 10\n",
    "\n",
    "for epoch in range(num_epochs):\n",
    "    model.train()\n",
    "    for puzzles, solutions in train_loader:\n",
    "        puzzles, solutions = puzzles.to(device), solutions.to(device)\n",
    "        outputs = model(puzzles)\n",
    "        loss = criterion(outputs, solutions)\n",
    "\n",
    "        optimizer.zero_grad()\n",
    "        loss.backward()\n",
    "        optimizer.step()\n",
    "\n",
    "model.eval()\n",
    "correct_train_cells = 0\n",
    "total_train_cells = 0\n",
    "\n",
    "with torch.no_grad():\n",
    "    for puzzles, solutions in train_loader:\n",
    "        puzzles, solutions = puzzles.to(device), solutions.to(device)\n",
    "        outputs = model(puzzles)\n",
    "        \n",
    "        _, predicted = torch.max(outputs, 1)\n",
    "        _, labels = torch.max(solutions, 1)\n",
    "        \n",
    "        total_train_cells += labels.numel()\n",
    "        correct_train_cells += (predicted == labels).sum().item()\n",
    "\n",
    "train_accuracy = 100 * correct_train_cells / total_train_cells\n",
    "print(f'Overall Training Accuracy: {train_accuracy:.2f}%')\n",
    "correct_cells = 0\n",
    "total_cells = 0\n",
    "\n",
    "with torch.no_grad():\n",
    "    for puzzles, solutions in test_loader:\n",
    "        puzzles, solutions = puzzles.to(device), solutions.to(device)\n",
    "        outputs = model(puzzles)\n",
    "        \n",
    "        _, predicted = torch.max(outputs, 1)\n",
    "        _, labels = torch.max(solutions, 1)\n",
    "        \n",
    "        total_cells += labels.numel()\n",
    "        correct_cells += (predicted == labels).sum().item()\n",
    "\n",
    "test_accuracy = 100 * correct_cells / total_cells\n",
    "print(f'Overall Test Accuracy: {test_accuracy:.2f}%')\n"
   ]
  },
  {
   "cell_type": "code",
   "execution_count": null,
   "id": "52e39317-ef5d-43c1-bb40-2fcd56c63286",
   "metadata": {},
   "outputs": [],
   "source": [
    "puzzle"
   ]
  },
  {
   "cell_type": "code",
   "execution_count": null,
   "id": "081d9bbd-f4dc-4013-8117-616e2dabb17a",
   "metadata": {},
   "outputs": [],
   "source": []
  },
  {
   "cell_type": "code",
   "execution_count": null,
   "id": "4db8980b-5e40-4afa-8146-f327ad6a02b3",
   "metadata": {},
   "outputs": [],
   "source": []
  }
 ],
 "metadata": {
  "kernelspec": {
   "display_name": "Python 3 (ipykernel)",
   "language": "python",
   "name": "python3"
  },
  "language_info": {
   "codemirror_mode": {
    "name": "ipython",
    "version": 3
   },
   "file_extension": ".py",
   "mimetype": "text/x-python",
   "name": "python",
   "nbconvert_exporter": "python",
   "pygments_lexer": "ipython3",
   "version": "3.11.9"
  }
 },
 "nbformat": 4,
 "nbformat_minor": 5
}
