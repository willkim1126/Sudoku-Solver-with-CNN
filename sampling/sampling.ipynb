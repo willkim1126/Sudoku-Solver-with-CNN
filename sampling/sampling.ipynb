{
 "cells": [
  {
   "cell_type": "code",
   "execution_count": 1,
   "metadata": {},
   "outputs": [
    {
     "data": {
      "text/html": [
       "<div>\n",
       "<style scoped>\n",
       "    .dataframe tbody tr th:only-of-type {\n",
       "        vertical-align: middle;\n",
       "    }\n",
       "\n",
       "    .dataframe tbody tr th {\n",
       "        vertical-align: top;\n",
       "    }\n",
       "\n",
       "    .dataframe thead th {\n",
       "        text-align: right;\n",
       "    }\n",
       "</style>\n",
       "<table border=\"1\" class=\"dataframe\">\n",
       "  <thead>\n",
       "    <tr style=\"text-align: right;\">\n",
       "      <th></th>\n",
       "      <th>quizzes</th>\n",
       "      <th>solutions</th>\n",
       "    </tr>\n",
       "  </thead>\n",
       "  <tbody>\n",
       "    <tr>\n",
       "      <th>987231</th>\n",
       "      <td>0040000087002090060100804508000605000790040010...</td>\n",
       "      <td>6245137987852493169137864528329615475793248614...</td>\n",
       "    </tr>\n",
       "    <tr>\n",
       "      <th>79954</th>\n",
       "      <td>0169040070040300800030619205091408001700000000...</td>\n",
       "      <td>2169845379542376817835619245691438721726584933...</td>\n",
       "    </tr>\n",
       "    <tr>\n",
       "      <th>567130</th>\n",
       "      <td>0502090003007600020000410891040500700061725000...</td>\n",
       "      <td>8512394673497681526725413891248569739361725487...</td>\n",
       "    </tr>\n",
       "    <tr>\n",
       "      <th>500891</th>\n",
       "      <td>0630075005000060010804200900900402052046080001...</td>\n",
       "      <td>9631875245429368717814253968973412652546789131...</td>\n",
       "    </tr>\n",
       "    <tr>\n",
       "      <th>55399</th>\n",
       "      <td>0902001060045000071700800300050340188009503000...</td>\n",
       "      <td>5982731462345618971764895329256347188179523644...</td>\n",
       "    </tr>\n",
       "  </tbody>\n",
       "</table>\n",
       "</div>"
      ],
      "text/plain": [
       "                                                  quizzes  \\\n",
       "987231  0040000087002090060100804508000605000790040010...   \n",
       "79954   0169040070040300800030619205091408001700000000...   \n",
       "567130  0502090003007600020000410891040500700061725000...   \n",
       "500891  0630075005000060010804200900900402052046080001...   \n",
       "55399   0902001060045000071700800300050340188009503000...   \n",
       "\n",
       "                                                solutions  \n",
       "987231  6245137987852493169137864528329615475793248614...  \n",
       "79954   2169845379542376817835619245691438721726584933...  \n",
       "567130  8512394673497681526725413891248569739361725487...  \n",
       "500891  9631875245429368717814253968973412652546789131...  \n",
       "55399   5982731462345618971764895329256347188179523644...  "
      ]
     },
     "execution_count": 1,
     "metadata": {},
     "output_type": "execute_result"
    }
   ],
   "source": [
    "import pandas as pd\n",
    "\n",
    "df = pd.read_csv('sudoku.csv')\n",
    "\n",
    "# Randomly sample 2000 rows without replacement\n",
    "sampled_df = df.sample(n=2000, random_state=42)\n",
    "\n",
    "\n",
    "sampled_df.to_csv('new_sudoku_test.csv', index=False)\n",
    "\n",
    "# Display the first few rows\n",
    "sampled_df.head()\n"
   ]
  },
  {
   "cell_type": "code",
   "execution_count": null,
   "metadata": {},
   "outputs": [],
   "source": []
  }
 ],
 "metadata": {
  "kernelspec": {
   "display_name": "Python 3",
   "language": "python",
   "name": "python3"
  },
  "language_info": {
   "codemirror_mode": {
    "name": "ipython",
    "version": 3
   },
   "file_extension": ".py",
   "mimetype": "text/x-python",
   "name": "python",
   "nbconvert_exporter": "python",
   "pygments_lexer": "ipython3",
   "version": "3.11.5"
  }
 },
 "nbformat": 4,
 "nbformat_minor": 2
}
